{
 "cells": [
  {
   "cell_type": "code",
   "execution_count": 81,
   "id": "08c80c40",
   "metadata": {},
   "outputs": [],
   "source": [
    "from lens import *\n",
    "from gr import *\n",
    "import numpy as np\n",
    "import matplotlib.pyplot as plt\n",
    "%matplotlib widget "
   ]
  },
  {
   "cell_type": "code",
   "execution_count": 73,
   "id": "b1937892",
   "metadata": {},
   "outputs": [],
   "source": [
    "a = np.array([[1,2,3,4,5],\n",
    "          [1,2,3,6,7],\n",
    "          [1,2,3,5,5]])\n",
    "b = np.array([[1,2,5,4,2],\n",
    "          [10,8,7,6,5],\n",
    "          [3,4,6,5,1]])\n",
    "c = np.array([[5,4,3,4,5],\n",
    "          [2,1,6,6,3],\n",
    "          [1,6,3,5,1]])\n",
    "d = np.array([[2,1,3,4,7],\n",
    "          [3,4,5,6,2],\n",
    "          [7,6,4,5,4]])"
   ]
  },
  {
   "cell_type": "code",
   "execution_count": 74,
   "id": "13090a5b",
   "metadata": {},
   "outputs": [
    {
     "data": {
      "text/plain": [
       "array([[[ 0,  0,  2,  0, -3],\n",
       "        [ 9,  6,  4,  0, -2],\n",
       "        [ 2,  2,  3,  0, -4]],\n",
       "\n",
       "       [[ 4,  2, -2,  0,  3],\n",
       "        [-8, -7, -1,  0, -2],\n",
       "        [-2,  2, -3,  0,  0]],\n",
       "\n",
       "       [[-3, -3,  0,  0,  2],\n",
       "        [ 1,  3, -1,  0, -1],\n",
       "        [ 6,  0,  1,  0,  3]]])"
      ]
     },
     "execution_count": 74,
     "metadata": {},
     "output_type": "execute_result"
    }
   ],
   "source": [
    "np.diff([a,b,c,d], axis=0)"
   ]
  },
  {
   "cell_type": "code",
   "execution_count": 75,
   "id": "2bfe16b3",
   "metadata": {},
   "outputs": [
    {
     "data": {
      "text/plain": [
       "array([[ 1, -1,  0,  0,  2],\n",
       "       [ 2,  2,  2,  0, -5],\n",
       "       [ 6,  4,  1,  0, -1]])"
      ]
     },
     "execution_count": 75,
     "metadata": {},
     "output_type": "execute_result"
    }
   ],
   "source": [
    "np.sum(np.diff([a,b,c,d], axis=0), axis=0)"
   ]
  },
  {
   "cell_type": "code",
   "execution_count": 76,
   "id": "3f4c7c65",
   "metadata": {},
   "outputs": [
    {
     "data": {
      "text/plain": [
       "array([ 9,  5,  3,  0, -4])"
      ]
     },
     "execution_count": 76,
     "metadata": {},
     "output_type": "execute_result"
    }
   ],
   "source": [
    "np.sum(np.sum(np.diff([a,b,c,d], axis=0), axis=0), axis=0)"
   ]
  },
  {
   "cell_type": "code",
   "execution_count": 77,
   "id": "eab998b4",
   "metadata": {},
   "outputs": [
    {
     "data": {
      "text/plain": [
       "array([[2.25, 2.25, 3.5 , 4.  , 4.75],\n",
       "       [4.  , 3.75, 5.25, 6.  , 4.25],\n",
       "       [3.  , 4.5 , 4.  , 5.  , 2.75]])"
      ]
     },
     "execution_count": 77,
     "metadata": {},
     "output_type": "execute_result"
    }
   ],
   "source": [
    "np.mean(np.array([a,b,c,d]),axis=0)"
   ]
  },
  {
   "cell_type": "code",
   "execution_count": 78,
   "id": "98192b5a",
   "metadata": {},
   "outputs": [
    {
     "data": {
      "text/plain": [
       "(array([[1, 2, 3, 4, 5],\n",
       "        [1, 2, 3, 6, 7],\n",
       "        [1, 2, 3, 5, 5]]),\n",
       " array([[ 1,  2,  5,  4,  2],\n",
       "        [10,  8,  7,  6,  5],\n",
       "        [ 3,  4,  6,  5,  1]]))"
      ]
     },
     "execution_count": 78,
     "metadata": {},
     "output_type": "execute_result"
    }
   ],
   "source": [
    "a,b"
   ]
  },
  {
   "cell_type": "code",
   "execution_count": 79,
   "id": "a473d548",
   "metadata": {},
   "outputs": [
    {
     "data": {
      "text/plain": [
       "array([[ 0,  0, -1,  0,  1],\n",
       "       [-1, -1, -1,  0,  1],\n",
       "       [-1, -1, -1,  0,  1]])"
      ]
     },
     "execution_count": 79,
     "metadata": {},
     "output_type": "execute_result"
    }
   ],
   "source": [
    "np.sign(a-b)"
   ]
  },
  {
   "cell_type": "code",
   "execution_count": 80,
   "id": "5a2c999f",
   "metadata": {},
   "outputs": [
    {
     "data": {
      "text/plain": [
       "array([[ 0, -1,  1,  1],\n",
       "       [ 0,  0,  1,  1],\n",
       "       [ 0,  0,  1,  1]])"
      ]
     },
     "execution_count": 80,
     "metadata": {},
     "output_type": "execute_result"
    }
   ],
   "source": [
    "np.diff(np.sign(a-b))"
   ]
  },
  {
   "cell_type": "code",
   "execution_count": null,
   "id": "bf1cf856",
   "metadata": {},
   "outputs": [],
   "source": []
  }
 ],
 "metadata": {
  "kernelspec": {
   "display_name": "Python 3 (ipykernel)",
   "language": "python",
   "name": "python3"
  },
  "language_info": {
   "codemirror_mode": {
    "name": "ipython",
    "version": 3
   },
   "file_extension": ".py",
   "mimetype": "text/x-python",
   "name": "python",
   "nbconvert_exporter": "python",
   "pygments_lexer": "ipython3",
   "version": "3.9.13"
  }
 },
 "nbformat": 4,
 "nbformat_minor": 5
}
